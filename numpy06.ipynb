{
 "cells": [
  {
   "cell_type": "markdown",
   "metadata": {},
   "source": [
    "广播（Broadcast）\n",
    "-\n",
    "广播是指不同形状的数组之间的算术运算的执行方式。受限于某些约束，较小的数组依据较大数组“broadcasting”，使得它们具有兼容的形状。\n",
    "\n",
    "\n",
    "广播的原则\n",
    "-\n",
    "如果两个数组的后缘维度（即从末尾开始算起的维度）的轴长度相符或其中一方的长度为1，则认为它们是广播兼容的。广播会在缺失和（或）长度为1的维度上进行。\n",
    "\n",
    "    让所有输入数组都向其中形状最长的数组看齐，形状中不足的部分都通过在前面加 1 补齐。\n",
    "    输出数组的形状是输入数组形状的各个维度上的最大值。\n",
    "    如果输入数组的某个维度和输出数组的对应维度的长度相同或者其长度为 1 时，这个数组能够用来计算，否则出错。\n",
    "    当输入数组的某个维度的长度为 1 时，沿着此维度运算时都用此维度上的第一组值。"
   ]
  },
  {
   "cell_type": "code",
   "execution_count": 24,
   "metadata": {},
   "outputs": [],
   "source": [
    "import numpy as np"
   ]
  },
  {
   "cell_type": "code",
   "execution_count": 25,
   "metadata": {},
   "outputs": [
    {
     "name": "stdout",
     "output_type": "stream",
     "text": [
      "[[[ 0  1]\n",
      "  [ 2  3]\n",
      "  [ 4  5]\n",
      "  [ 6  7]]\n",
      "\n",
      " [[ 8  9]\n",
      "  [10 11]\n",
      "  [12 13]\n",
      "  [14 15]]\n",
      "\n",
      " [[16 17]\n",
      "  [18 19]\n",
      "  [20 21]\n",
      "  [22 23]]]\n",
      "[[4]\n",
      " [4]\n",
      " [4]\n",
      " [4]]\n"
     ]
    }
   ],
   "source": [
    "arr1 = np.arange(24).reshape(3,4,2)\n",
    "arr2 = np.array([[4],\n",
    "                [4],\n",
    "                [4],\n",
    "                [4]])\n",
    "print(arr1)\n",
    "print(arr2)"
   ]
  },
  {
   "cell_type": "code",
   "execution_count": 27,
   "metadata": {},
   "outputs": [
    {
     "data": {
      "text/plain": [
       "array([[[-4, -3],\n",
       "        [-2, -1],\n",
       "        [ 0,  1],\n",
       "        [ 2,  3]],\n",
       "\n",
       "       [[ 4,  5],\n",
       "        [ 6,  7],\n",
       "        [ 8,  9],\n",
       "        [10, 11]],\n",
       "\n",
       "       [[12, 13],\n",
       "        [14, 15],\n",
       "        [16, 17],\n",
       "        [18, 19]]])"
      ]
     },
     "execution_count": 27,
     "metadata": {},
     "output_type": "execute_result"
    }
   ],
   "source": [
    "arr3 = arr1 - arr2\n",
    "arr3"
   ]
  },
  {
   "cell_type": "code",
   "execution_count": 28,
   "metadata": {},
   "outputs": [
    {
     "name": "stdout",
     "output_type": "stream",
     "text": [
      "(3, 4, 2)\n",
      "(4, 1)\n",
      "(3, 4, 2)\n"
     ]
    }
   ],
   "source": [
    "print(arr1.shape)\n",
    "print(arr2.shape)\n",
    "print(arr3.shape)"
   ]
  },
  {
   "cell_type": "code",
   "execution_count": null,
   "metadata": {},
   "outputs": [],
   "source": []
  },
  {
   "cell_type": "code",
   "execution_count": null,
   "metadata": {},
   "outputs": [],
   "source": []
  },
  {
   "cell_type": "code",
   "execution_count": null,
   "metadata": {},
   "outputs": [],
   "source": [
    "伪随机数生成\n",
    "\n",
    "numpy.random模块对Python内置的random进行了补充，增加了一些用于高效生成多种概率分布的样本值的函数\n",
    "\n",
    "之所以被称作伪随机数而不是随机数是因为它们都是通过算法基于随机数生成器种子在确定性的条件下生成的\n",
    "\n",
    "常用函数：\n",
    "\n",
    "\n",
    "rand\n",
    "        产生指定形状的均匀分布的样本值\n",
    "\n",
    "randint\n",
    "\n",
    "        从给定的上下限范围内选取随机整数\n",
    "\n",
    "randn\n",
    "\n",
    "        产生正态分布（平均值为0，标准差为1）的样本值，类似于MATLAB接口\n",
    "\n",
    "binomial\n",
    "\n",
    "        产生二项分布的样本值\n",
    "\n",
    "normal\n",
    "\n",
    "        产生正态（高斯）分布的样本值\n",
    "\n",
    "beta\n",
    "\n",
    "        产生Beta分布的样本值\n",
    "\n",
    "chisquare\n",
    "\n",
    "        产生卡方分布的样本值\n",
    "\n",
    "gamma\n",
    "\n",
    "        产生Gamma分布的样本值\n",
    "\n",
    "uniform\n",
    "\n",
    "        产生在指定范围中均匀分布的样本值\n",
    "\n",
    "seed\n",
    "\n",
    "        确定随机数生成器的种子\n",
    "\n",
    "permutation\n",
    "\n",
    "        返回一个序列的随机排列或返回一个随机排列的范围\n",
    "\n",
    "shuffle\n",
    "\n",
    "        对一个序列就地随机排列"
   ]
  },
  {
   "cell_type": "code",
   "execution_count": 12,
   "metadata": {},
   "outputs": [
    {
     "data": {
      "text/plain": [
       "array([[1, 3, 1, 1],\n",
       "       [1, 2, 0, 2],\n",
       "       [1, 2, 4, 2]])"
      ]
     },
     "execution_count": 12,
     "metadata": {},
     "output_type": "execute_result"
    }
   ],
   "source": [
    "arr1 = np.random.randint(5, size=(3, 4))\n",
    "arr1"
   ]
  },
  {
   "cell_type": "code",
   "execution_count": 8,
   "metadata": {},
   "outputs": [
    {
     "data": {
      "text/plain": [
       "array([[-0.16555474,  0.59585598, -2.43430598,  0.37632891],\n",
       "       [-0.92159874,  0.17951412,  0.77380286,  1.131176  ],\n",
       "       [ 0.91202267,  0.01128431, -1.41149089,  0.32030475]])"
      ]
     },
     "execution_count": 8,
     "metadata": {},
     "output_type": "execute_result"
    }
   ],
   "source": [
    "np.random.randn(3, 4)"
   ]
  },
  {
   "cell_type": "code",
   "execution_count": 9,
   "metadata": {},
   "outputs": [
    {
     "data": {
      "text/plain": [
       "array([1.26897217, 1.29310154, 1.92313216, 1.8546961 , 1.33356015,\n",
       "       1.28472969, 1.048164  , 1.98602744, 1.91974932, 1.64350952,\n",
       "       1.07475065, 1.06937271, 1.09894941, 1.96378942, 1.81328461,\n",
       "       1.86333773, 1.49959015, 1.99632028, 1.29704332, 1.42030692,\n",
       "       1.93064203, 1.24428842, 1.48269997, 1.62717812, 1.73669758,\n",
       "       1.73069701, 1.2720035 , 1.9027611 , 1.00180347, 1.79882837,\n",
       "       1.49085526, 1.33160793, 1.93674565, 1.86839662, 1.4907762 ,\n",
       "       1.06646706, 1.09300343, 1.82373031, 1.19347742, 1.08714153,\n",
       "       1.68529718, 1.37146371, 1.48302326, 1.07630521, 1.22935948,\n",
       "       1.59718342, 1.68411916, 1.65938013, 1.59535112, 1.266549  ,\n",
       "       1.8317311 , 1.03934284, 1.06869713, 1.26732218, 1.9227461 ,\n",
       "       1.77185869, 1.50067521, 1.52781788, 1.1096475 , 1.73447299,\n",
       "       1.77258681, 1.41065899, 1.68495321, 1.81541755, 1.36798674,\n",
       "       1.55562302, 1.61558923, 1.33870204, 1.73725936, 1.15721077,\n",
       "       1.22693338, 1.06281092, 1.9217784 , 1.024435  , 1.78727791,\n",
       "       1.36191349, 1.00335884, 1.69263601, 1.77055243, 1.77198421,\n",
       "       1.20851209, 1.69778921, 1.05127451, 1.62252797, 1.97956385,\n",
       "       1.10489721, 1.49330307, 1.11217461, 1.41236515, 1.89862077,\n",
       "       1.14853052, 1.84992297, 1.43082964, 1.33396972, 1.44865599,\n",
       "       1.43278082, 1.29504406, 1.03602834, 1.77392077, 1.3344822 ])"
      ]
     },
     "execution_count": 9,
     "metadata": {},
     "output_type": "execute_result"
    }
   ],
   "source": [
    "# 生成指定范围的样本值\n",
    "np.random.uniform(1, 2, 100)"
   ]
  },
  {
   "cell_type": "code",
   "execution_count": null,
   "metadata": {},
   "outputs": [],
   "source": []
  },
  {
   "cell_type": "code",
   "execution_count": null,
   "metadata": {},
   "outputs": [],
   "source": []
  }
 ],
 "metadata": {
  "kernelspec": {
   "display_name": "Python 3",
   "language": "python",
   "name": "python3"
  },
  "language_info": {
   "codemirror_mode": {
    "name": "ipython",
    "version": 3
   },
   "file_extension": ".py",
   "mimetype": "text/x-python",
   "name": "python",
   "nbconvert_exporter": "python",
   "pygments_lexer": "ipython3",
   "version": "3.7.0"
  }
 },
 "nbformat": 4,
 "nbformat_minor": 2
}
