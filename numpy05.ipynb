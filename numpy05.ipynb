{
 "cells": [
  {
   "cell_type": "markdown",
   "metadata": {},
   "source": [
    "#通用函数\n",
    "\n",
    "通用函数（或简称为ufunc）是一种以元素为单位对ndarray进行操作的函数，支持数组广播，类型转换和其他一些标准特性。 也就是说，ufunc是一个函数的“矢量化”包装器，它接受固定数量的特定输入并产生固定数量的特定输出\n",
    "在NumPy中，通用函数是numpy.ufunc类的实例\n",
    "\n",
    "https://docs.scipy.org/doc/numpy/reference/ufuncs.html\n",
    "\n",
    "一元ufunc\n",
    "\n",
    "       函数\t                          说明\n",
    "       \n",
    "    abs、fabs\t计算整数、浮点数或复数的绝对值。对于非复数值，可以使用更快的fabs\n",
    "    \n",
    "    sqrt\t     计算各元素的平方根。相当于arr ** 0.5\n",
    "    \n",
    "    square\t     计算各元素的平方。相当于arr ** 2\n",
    "    \n",
    "    exp\t         计算各元素的指数。相当于e的x次方\n",
    "    \n",
    "    log、log10、log2、log1p\t      分别对应自然对数（底数为e）、底数为10的log、底数为2的log、log(1 + p)\n",
    "    \n",
    "    sign\t     计算各元素的正负号：1（正数）、0（零）、-1（负数）\n",
    "    \n",
    "    ceil\t     计算各元素的ceiling值，即大于等于该值的最小整数\n",
    "    \n",
    "    floor\t     计算各元素的floor值。即小于等于该值的最大整数\n",
    "    \n",
    "    rint\t     将各元素值四舍五入到最接近的整数，保留dtype\n",
    "    \n",
    "    modf\t     将数组的小数和整数部分以两个独立数组的形式返回\n",
    "    \n",
    "    isnan\t     返回一个表示“哪些值是NaN”的布尔型数组\n",
    "    \n",
    "    isfinite、isinf\t                                   分别返回一个表示“哪些元素是有穷的（非inf，非NaN）”或“哪些元素是无穷的”的布尔型数组\n",
    "     \n",
    "    cos、cosh、sin、sinh、tan、tanh\t                   普通型和双曲型三角函数\n",
    "    \n",
    "    arccos、arccosh、arcsin、arcsinh、arctan、arctanh   反三角函数\n",
    "    \n",
    "    logical_not\t                                        计算个元素的not x的真值。相当于-arr\n",
    "    \n",
    "    \n",
    "    \n",
    "    \n",
    "二元ufunc\n",
    "\n",
    "    函数\t                            说明\n",
    "    \n",
    "    add\t                       将数组中对应的元素相加\n",
    "    \n",
    "    subtract\t               从第一个数组中减去第二个数组中的元素\n",
    "    \n",
    "    multiply\t               将数组元素相乘\n",
    "    \n",
    "    divide、floor_divide    \t  除法或向下取整除法（丢弃余数）\n",
    "    \n",
    "    power\t                   对第一个数组中的元素A，根据第二个数组中的相应元素B，计算A的B次方\n",
    "    \n",
    "    maximum、fmax\t          元素级的最大值计算。fmax将忽略NaN\n",
    "    \n",
    "    minimum、fmin\t          元素级的最小值计算。fmin将忽略NaN\n",
    "    \n",
    "    mod\t                       元素级别的求模计算（除法的余数）\n",
    "    \n",
    "    copysign\t               将第二个数组中的值得符号复制给第一个数组中的值\n",
    "    \n",
    "    greater、greater_equal、less、less_equal、equal、not_equal、\t执行元素级的比较运算，最终产生布尔数组。相当于中缀运算符号>、>=、<、<=、==、!=\n",
    "    \n",
    "    logical_and、logical_or、logical_xor\t                        执行元素级的真值逻辑运算。相当于中缀运算符&、| 、^\n"
   ]
  },
  {
   "cell_type": "markdown",
   "metadata": {},
   "source": [
    "#常用的函数\n",
    "\n",
    "-diagonal(v, k=0)\n",
    "\n",
    "            以一维数组的形式返回方阵的对角线（或非对角线）元素，或将一维数组转换为方阵（非对角线元素为0）\n",
    "\n",
    "-dot(a, b[, out])\n",
    "\n",
    "            两个数组的点积\n",
    "\n",
    "-trace(a[, offset, axis1, axis2, dtype, out])\n",
    "\n",
    "            计算对角线元素的和\n",
    "\n",
    "-linalg.det(a)\n",
    "\n",
    "            计算矩阵行列式\n",
    "\n",
    "-linalg.inv(a)\n",
    "\n",
    "            计算方阵的逆"
   ]
  },
  {
   "cell_type": "code",
   "execution_count": 1,
   "metadata": {},
   "outputs": [
    {
     "data": {
      "text/plain": [
       "array([[0, 1, 2],\n",
       "       [3, 4, 5],\n",
       "       [6, 7, 8]])"
      ]
     },
     "execution_count": 1,
     "metadata": {},
     "output_type": "execute_result"
    }
   ],
   "source": [
    "import numpy as np\n",
    "arr = np.arange(9).reshape((3,3))\n",
    "arr"
   ]
  },
  {
   "cell_type": "code",
   "execution_count": 12,
   "metadata": {},
   "outputs": [
    {
     "data": {
      "text/plain": [
       "array([0, 4, 8])"
      ]
     },
     "execution_count": 12,
     "metadata": {},
     "output_type": "execute_result"
    }
   ],
   "source": [
    "arr.diagonal() \n",
    "np.diag(arr, k=0)  #两者等价 默认k = 0"
   ]
  },
  {
   "cell_type": "code",
   "execution_count": 13,
   "metadata": {},
   "outputs": [
    {
     "data": {
      "text/plain": [
       "array([[1, 0, 0],\n",
       "       [0, 2, 0],\n",
       "       [0, 0, 3]])"
      ]
     },
     "execution_count": 13,
     "metadata": {},
     "output_type": "execute_result"
    }
   ],
   "source": [
    "diag_arr = np.array([1, 2, 3])\n",
    "np.diag(diag_arr)"
   ]
  },
  {
   "cell_type": "code",
   "execution_count": 14,
   "metadata": {},
   "outputs": [
    {
     "data": {
      "text/plain": [
       "array([[4, 1],\n",
       "       [2, 2]])"
      ]
     },
     "execution_count": 14,
     "metadata": {},
     "output_type": "execute_result"
    }
   ],
   "source": [
    "# 计算矩阵乘积\n",
    "a = [[1, 0], [0, 1]]\n",
    "b = [[4, 1], [2, 2]]\n",
    "\n",
    "np.dot(a, b)"
   ]
  },
  {
   "cell_type": "code",
   "execution_count": 15,
   "metadata": {},
   "outputs": [
    {
     "data": {
      "text/plain": [
       "12"
      ]
     },
     "execution_count": 15,
     "metadata": {},
     "output_type": "execute_result"
    }
   ],
   "source": [
    "# 计算对角线元素的和\n",
    "np.trace(arr)"
   ]
  },
  {
   "cell_type": "code",
   "execution_count": 20,
   "metadata": {},
   "outputs": [
    {
     "data": {
      "text/plain": [
       "-2.0000000000000004"
      ]
     },
     "execution_count": 20,
     "metadata": {},
     "output_type": "execute_result"
    }
   ],
   "source": [
    "# 计算矩阵行列式\n",
    "arr2 = np.array([[1, 2],\n",
    "                 [3, 4]])\n",
    "np.linalg.det(arr2)"
   ]
  },
  {
   "cell_type": "code",
   "execution_count": 21,
   "metadata": {},
   "outputs": [
    {
     "data": {
      "text/plain": [
       "array([[-2. ,  1. ],\n",
       "       [ 1.5, -0.5]])"
      ]
     },
     "execution_count": 21,
     "metadata": {},
     "output_type": "execute_result"
    }
   ],
   "source": [
    "# 计算矩阵的逆\n",
    "np.linalg.inv(arr2)"
   ]
  },
  {
   "cell_type": "code",
   "execution_count": 24,
   "metadata": {},
   "outputs": [
    {
     "data": {
      "text/plain": [
       "array([[1, 3],\n",
       "       [2, 4]])"
      ]
     },
     "execution_count": 24,
     "metadata": {},
     "output_type": "execute_result"
    }
   ],
   "source": [
    "arr2.T"
   ]
  },
  {
   "cell_type": "code",
   "execution_count": null,
   "metadata": {},
   "outputs": [],
   "source": []
  }
 ],
 "metadata": {
  "kernelspec": {
   "display_name": "Python 3",
   "language": "python",
   "name": "python3"
  },
  "language_info": {
   "codemirror_mode": {
    "name": "ipython",
    "version": 3
   },
   "file_extension": ".py",
   "mimetype": "text/x-python",
   "name": "python",
   "nbconvert_exporter": "python",
   "pygments_lexer": "ipython3",
   "version": "3.7.0"
  }
 },
 "nbformat": 4,
 "nbformat_minor": 2
}
